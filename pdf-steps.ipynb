{
 "cells": [
  {
   "cell_type": "markdown",
   "metadata": {},
   "source": [
    "# 导入"
   ]
  },
  {
   "cell_type": "code",
   "execution_count": 1,
   "metadata": {},
   "outputs": [],
   "source": [
    "import os\n",
    "import cv2\n",
    "import json\n",
    "import yaml\n",
    "import time\n",
    "import pytz\n",
    "import datetime\n",
    "import argparse\n",
    "import shutil\n",
    "import torch\n",
    "import numpy as np\n",
    "import gc\n",
    "\n",
    "from paddleocr import draw_ocr\n",
    "from PIL import Image, ImageDraw, ImageFont\n",
    "from torchvision import transforms\n",
    "from torch.utils.data import Dataset, DataLoader\n",
    "from ultralytics import YOLO\n",
    "from unimernet.common.config import Config\n",
    "import unimernet.tasks as tasks\n",
    "from unimernet.processors import load_processor\n",
    "from struct_eqtable import build_model\n",
    "\n",
    "from modules.latex2png import tex2pil, zhtext2pil\n",
    "from modules.extract_pdf import load_pdf_fitz\n",
    "from modules.layoutlmv3.model_init import Layoutlmv3_Predictor\n",
    "from modules.self_modify import ModifiedPaddleOCR\n",
    "from modules.post_process import get_croped_image, latex_rm_whitespace"
   ]
  },
  {
   "cell_type": "markdown",
   "metadata": {},
   "source": [
    "# layout、OCR、图表识别模型的导入"
   ]
  },
  {
   "cell_type": "code",
   "execution_count": 2,
   "metadata": {},
   "outputs": [
    {
     "name": "stdout",
     "output_type": "stream",
     "text": [
      "2024-09-01 18:11:50\n",
      "Started!\n"
     ]
    }
   ],
   "source": [
    "def mfd_model_init(weight):\n",
    "    mfd_model = YOLO(weight)\n",
    "    return mfd_model\n",
    "\n",
    "\n",
    "def mfr_model_init(weight_dir, device='cpu'):\n",
    "    args = argparse.Namespace(cfg_path=\"modules/UniMERNet/configs/demo.yaml\", options=None)\n",
    "    cfg = Config(args)\n",
    "    cfg.config.model.pretrained = os.path.join(weight_dir, \"pytorch_model.bin\")\n",
    "    cfg.config.model.model_config.model_name = weight_dir\n",
    "    cfg.config.model.tokenizer_config.path = weight_dir\n",
    "    task = tasks.setup_task(cfg)\n",
    "    model = task.build_model(cfg)\n",
    "    model = model.to(device)\n",
    "    vis_processor = load_processor('formula_image_eval', cfg.config.datasets.formula_rec_eval.vis_processor.eval)\n",
    "    return model, vis_processor\n",
    "\n",
    "def layout_model_init(weight):\n",
    "    model = Layoutlmv3_Predictor(weight)\n",
    "    return model\n",
    "\n",
    "def tr_model_init(weight, max_time, device='cuda'):\n",
    "    tr_model = build_model(weight, max_new_tokens=4096, max_time=max_time)\n",
    "    if device == 'cuda':\n",
    "        tr_model = tr_model.cuda()\n",
    "    return tr_model\n",
    "\n",
    "args = argparse.Namespace(\n",
    "    pdf='./test_data/',\n",
    "    output='output',\n",
    "    batch_size=1,\n",
    "    vis=True,\n",
    "    render=False\n",
    ")\n",
    "tz = pytz.timezone('Asia/Shanghai')\n",
    "now = datetime.datetime.now(tz)\n",
    "print(now.strftime('%Y-%m-%d %H:%M:%S'))\n",
    "print('Started!')"
   ]
  },
  {
   "cell_type": "markdown",
   "metadata": {},
   "source": [
    "# 加载参数"
   ]
  },
  {
   "cell_type": "code",
   "execution_count": null,
   "metadata": {},
   "outputs": [],
   "source": [
    "with open('configs/model_configs.yaml') as f:\n",
    "    model_configs = yaml.load(f, Loader=yaml.FullLoader)\n",
    "img_size = model_configs['model_args']['img_size']\n",
    "conf_thres = model_configs['model_args']['conf_thres']\n",
    "iou_thres = model_configs['model_args']['iou_thres']\n",
    "device = model_configs['model_args']['device']\n",
    "dpi = model_configs['model_args']['pdf_dpi']\n",
    "\n",
    "tr_model = tr_model_init(model_configs['model_args']['tr_weight'], max_time=model_configs['model_args']['table_max_time'], device=device)\n",
    "layout_model = layout_model_init(model_configs['model_args']['layout_weight'])\n",
    "ocr_model = ModifiedPaddleOCR(show_log=True)\n",
    "print(now.strftime('%Y-%m-%d %H:%M:%S'))\n",
    "print('Model init done!')"
   ]
  },
  {
   "cell_type": "markdown",
   "metadata": {},
   "source": [
    "# Layout 检测"
   ]
  },
  {
   "cell_type": "code",
   "execution_count": 4,
   "metadata": {},
   "outputs": [
    {
     "name": "stdout",
     "output_type": "stream",
     "text": [
      "total files: 1\n",
      "pdf index: 0 pages: 3\n"
     ]
    }
   ],
   "source": [
    "start = time.time()\n",
    "if os.path.isdir(args.pdf):\n",
    "    all_pdfs = [os.path.join(args.pdf, name) for name in os.listdir(args.pdf)]\n",
    "else:\n",
    "    all_pdfs = [args.pdf]\n",
    "print(\"total files:\", len(all_pdfs))\n",
    "for idx, single_pdf in enumerate(all_pdfs):\n",
    "    try:\n",
    "        img_list = load_pdf_fitz(single_pdf, dpi=dpi)\n",
    "    except:\n",
    "        img_list = None\n",
    "        print(\"unexpected pdf file:\", single_pdf)\n",
    "    if img_list is None:\n",
    "        continue\n",
    "    print(\"pdf index:\", idx, \"pages:\", len(img_list))\n",
    "    # layout detection and formula detection\n",
    "    doc_layout_result = []\n",
    "    latex_filling_list = []\n",
    "    mf_image_list = []\n",
    "    for idx, image in enumerate(img_list):\n",
    "        img_H, img_W = image.shape[0], image.shape[1]\n",
    "        layout_res = layout_model(image, ignore_catids=[])\n",
    "        layout_res['page_info'] = dict(\n",
    "            page_no = idx,\n",
    "            height = img_H,\n",
    "            width = img_W\n",
    "        )\n",
    "        doc_layout_result.append(layout_res)"
   ]
  },
  {
   "cell_type": "markdown",
   "metadata": {},
   "source": [
    "# 保存Layout检测结果"
   ]
  },
  {
   "cell_type": "code",
   "execution_count": 5,
   "metadata": {},
   "outputs": [],
   "source": [
    "color_palette = [\n",
    "                (255,64,255),(255,255,0),(0,255,255),(255,215,135),(215,0,95),(100,0,48),(0,175,0),(95,0,95),(175,95,0),(95,95,0),\n",
    "                (95,95,255),(95,175,135),(215,95,0),(0,0,255),(0,255,0),(255,0,0),(0,95,215),(0,0,0),(0,0,0),(0,0,0)\n",
    "            ]\n",
    "id2names = [\"title\", \"plain_text\", \"abandon\", \"figure\", \"figure_caption\", \"table\", \"table_caption\", \"table_footnote\", \n",
    "            \"isolate_formula\", \"formula_caption\", \" \", \" \", \" \", \"inline_formula\", \"isolated_formula\", \"ocr_text\"]\n",
    "vis_pdf_result = []\n",
    "\n",
    "for idx, image in enumerate(img_list):\n",
    "    single_page_res = doc_layout_result[idx]['layout_dets']\n",
    "    vis_img = Image.new('RGB', Image.fromarray(image).size, 'white') if args.render else Image.fromarray(cv2.cvtColor(image, cv2.COLOR_RGB2BGR))\n",
    "    draw = ImageDraw.Draw(vis_img)\n",
    "    for res in single_page_res:\n",
    "        label = int(res['category_id'])\n",
    "        if label > 15:     # categories that do not need visualize\n",
    "            continue\n",
    "        label_name = id2names[label]\n",
    "        x_min, y_min = int(res['poly'][0]), int(res['poly'][1])\n",
    "        x_max, y_max = int(res['poly'][4]), int(res['poly'][5])\n",
    "        # we don't use the formule detection\n",
    "        draw.rectangle([x_min, y_min, x_max, y_max], fill=None, outline=color_palette[label], width=2)  # Increased outline width for better visibility\n",
    "        fontText = ImageFont.load_default()  # Use default font due to potential font loading issues\n",
    "        draw.text((x_min, y_min), label_name, fill=color_palette[label], font=fontText)  # Change 'color_palette' usage for fill\n",
    "    \n",
    "    width, height = vis_img.size\n",
    "    width, height = int(0.75*width), int(0.75*height)\n",
    "    vis_img = vis_img.resize((width, height))\n",
    "    vis_pdf_result.append(vis_img)\n",
    "        \n",
    "    first_page = vis_pdf_result.pop(0)\n",
    "    first_page.save(os.path.join(args.output, f'page_{idx}_layout.pdf'), 'PDF', resolution=100, save_all=True, append_images=vis_pdf_result)\n",
    "    import json\n",
    "\n",
    "    # Save single_page_res as a simple JSON file for each page\n",
    "    output_dir = args.output\n",
    "    os.makedirs(output_dir, exist_ok=True)\n",
    "    for idx, single_page_res in enumerate(doc_layout_result):\n",
    "        with open(os.path.join(output_dir, f'page_{idx}_layout.json'), 'w') as json_file:\n",
    "            json.dump(single_page_res['layout_dets'], json_file, indent=4)"
   ]
  },
  {
   "cell_type": "markdown",
   "metadata": {},
   "source": [
    "# OCR识别，包括文本部分和图表部分"
   ]
  },
  {
   "cell_type": "code",
   "execution_count": null,
   "metadata": {},
   "outputs": [],
   "source": [
    "# OCR识别\n",
    "for idx, image in enumerate(img_list):\n",
    "    pil_img = Image.fromarray(cv2.cvtColor(image, cv2.COLOR_RGB2BGR))\n",
    "    single_page_res = doc_layout_result[idx]['layout_dets']\n",
    "    single_page_mfdetrec_res = []\n",
    "    ocr_result = []\n",
    "\n",
    "    for res in single_page_res:\n",
    "        xmin, ymin = int(res['poly'][0]), int(res['poly'][1])\n",
    "        xmax, ymax = int(res['poly'][4]), int(res['poly'][5])\n",
    "        crop_box = [xmin, ymin, xmax, ymax]\n",
    "        cropped_img = Image.new('RGB', pil_img.size, 'white')\n",
    "        cropped_img.paste(pil_img.crop(crop_box), crop_box)\n",
    "        cropped_img = cv2.cvtColor(np.asarray(cropped_img), cv2.COLOR_RGB2BGR)\n",
    "        ocr_res = ocr_model.ocr(cropped_img, mfd_res=single_page_mfdetrec_res)[0]\n",
    "        if ocr_res:\n",
    "            res['ocr_result'] = []\n",
    "            for box_ocr_res in ocr_res:\n",
    "                p1, p2, p3, p4 = box_ocr_res[0]\n",
    "                text, score = box_ocr_res[1]\n",
    "                res['ocr_result'].append({\n",
    "                    'poly': p1 + p2 + p3 + p4,\n",
    "                    'score': round(score, 2),\n",
    "                    'text': text,\n",
    "                })\n",
    "        \n",
    "        output_dir = args.output\n",
    "        os.makedirs(output_dir, exist_ok=True)\n",
    "        \n",
    "for idx, single_page_res in enumerate(doc_layout_result):\n",
    "    with open(os.path.join(output_dir, f'page_{idx}_ocr_result.json'), 'w') as json_file:\n",
    "        json.dump(single_page_res['layout_dets'], json_file, indent=4)"
   ]
  },
  {
   "cell_type": "markdown",
   "metadata": {},
   "source": [
    "# 整理GPU内存"
   ]
  },
  {
   "cell_type": "code",
   "execution_count": 7,
   "metadata": {},
   "outputs": [],
   "source": [
    "with torch.cuda.device('cuda'):  \n",
    "\ttorch.cuda.empty_cache()  \n",
    "\ttorch.cuda.ipc_collect()"
   ]
  },
  {
   "cell_type": "markdown",
   "metadata": {},
   "source": [
    "# 图表识别"
   ]
  },
  {
   "cell_type": "code",
   "execution_count": null,
   "metadata": {},
   "outputs": [],
   "source": [
    "# table recognition\n",
    "for idx, image in enumerate(img_list):\n",
    "    pil_img = Image.fromarray(cv2.cvtColor(image, cv2.COLOR_RGB2BGR))\n",
    "    single_page_res = doc_layout_result[idx]['layout_dets']\n",
    "    single_page_mfdetrec_res = []\n",
    "    for res in single_page_res:\n",
    "        if int(res['category_id']) == 5: # table header, table, table footer \n",
    "            print('table here')\n",
    "            xmin, ymin = int(res['poly'][0]), int(res['poly'][1])\n",
    "            xmax, ymax = int(res['poly'][4]), int(res['poly'][5])\n",
    "            crop_box = [xmin, ymin, xmax, ymax]\n",
    "            cropped_img = pil_img.convert(\"RGB\").crop(crop_box)\n",
    "            start = time.time()\n",
    "            with torch.no_grad():\n",
    "                output = tr_model(cropped_img)\n",
    "            end = time.time()\n",
    "            if (end-start) > model_configs['model_args']['table_max_time']:\n",
    "                res[\"timeout\"] = True\n",
    "            res[\"latex_result\"] = output[0]\n",
    "    \n",
    "for idx, single_page_res in enumerate(doc_layout_result):\n",
    "    with open(os.path.join(output_dir, f'page_{idx}_orc_table_result.json'), 'w') as json_file:\n",
    "        json.dump(single_page_res['layout_dets'], json_file, indent=4)"
   ]
  },
  {
   "cell_type": "markdown",
   "metadata": {},
   "source": [
    "# 图表识别结果转为图片"
   ]
  },
  {
   "cell_type": "code",
   "execution_count": 9,
   "metadata": {},
   "outputs": [
    {
     "name": "stdout",
     "output_type": "stream",
     "text": [
      "\\begin{tabular}{@{}lccc@{}}\\toprule\\textbf{Variable} & \\textbf{Pre} & \\textbf{ during} & \\textbf{P value} \\\\\\midrule \\textbf{Klocsiories} & \\textbf{$2185 \\pm 94$} & \\textbf{$172 \\pm 85$} & \\textbf{00005} \\\\\\textbf{Prouen(g)} & \\textbf{$92 \\pm 6$} & \\textbf{$62 \\pm 5$} & \\textbf{00003} \\\\\\textbf{Prouen(R){\\tiny 图} } & \\textbf{17 \\pm 0} & \\textbf{13 \\pm 0} & \\textbf{0004} \\\\\\textbf{Carbohydrate(g)} & \\textbf{287 \\pm I4} & \\textbf{269 \\pm 17} & \\textbf{041} \\\\\\textbf{Carbohydrate(g)} & \\textbf{33 \\pm 0} & \\textbf{62 \\pm 0} & \\textbf{00002} \\\\\\textbf{Faber(g)} & \\textbf{26 \\pm 2} & \\textbf{40 \\pm 3} & \\textbf{$< 00001$} \\\\\\textbf{Sugar(g)} & \\textbf{96 \\pm 7} & \\textbf{88 \\pm 6} & \\textbf{037} \\\\\\textbf{Fat(g)} & \\textbf{74 \\pm 5} & \\textbf{54 \\pm 4} & \\textbf{0003} \\\\\\textbf{Fat(G)} & \\textbf{30 \\pm 0} & \\textbf{27 \\pm 0} & \\textbf{020} \\\\\\textbf{SaturatedFat(g)} & \\textbf{24 \\pm 2} & \\textbf{9 \\pm 1} & \\textbf{$< 00001$} \\\\\\textbf{MonoursarvatedFat(g)} & \\textbf{14 \\pm 2} & \\textbf{14 \\pm 2} & \\textbf{089} \\\\\\textbf{PopyrsaturatedFat(g)} & \\textbf{$8 \\pm 1$} & \\textbf{$9 \\pm 1$} & \\textbf{047} \\\\\\textbf{TransFIR(g)} & \\textbf{1 \\pm 0} & \\textbf{$0 \\pm 0$} & \\textbf{0006} \\\\\\textbf{Onequa3(g)} & \\textbf{711 \\pm 163} & \\textbf{78. \\pm 202} & \\textbf{077} \\\\\\textbf{Onequa6(g)} & \\textbf{230 \\pm 37} & \\textbf{334 \\pm 345} & \\textbf{010} \\\\\\textbf{Cholesterol(g)} & \\textbf{225 \\pm 19} & \\textbf{28 \\pm 20} & \\textbf{$< 00001$} \\\\\\textbf{VfaminC(g)} & \\textbf{70 \\pm 9} & \\textbf{119 \\pm 12} & \\textbf{0002} \n",
      "\\begin{tabular}{@{}lccc@{}}\\hline \\hline \\textbf{\\tiny 标志} & \\phantom{ab} & \\textbf{\\tiny In} & \\phantom{ab} & \\textbf{\\tiny Post} \\\\\\hline \\textbf{\\tiny Onosteol(mgdt)''} && \\textbf{\\tiny 1/11\\,±\\,46} && \\textbf{\\tiny 1387\\,±\\,44} \\\\\\textbf{\\tiny 70lycerodes(mgdt)''} && \\textbf{\\tiny 85.1\\,±\\,48} && \\textbf{\\tiny 753\\,±\\,36} \\\\\\textbf{\\tiny Hol-C(mgdt)''} && \\textbf{\\tiny 556\\,±\\,23} && \\textbf{\\tiny 476\\,±\\,22} \\\\\\textbf{\\tiny MDL-C(mgdt)''} && \\textbf{\\tiny 170\\,±\\,10} && \\textbf{\\tiny 180\\,±\\,07} \\\\\\textbf{\\tiny DDLC(mgdt)''} && \\textbf{\\tiny 984\\,±\\,39} && \\textbf{\\tiny 761\\,±\\,35} \\\\\\textbf{\\tiny Fina+DL-C} && \\textbf{\\tiny 13\\,±\\,0]} && \\textbf{\\tiny 11\\,±\\,01} \\\\\\hline \\hline \\end{tabular}\n",
      "\\begin{tabular}{|p{0.25\\columnwidth}|p{0.25\\columnwidth}|p{0.25\\columnwidth}|p{0.25\\columnwidth}|p{0.25\\columnwidth}|}\\hline $\\texttt{a}$ & \\multicolumn{2}{l|}{$\\texttt{b}$} \\\\ \\cline{2-3} & $\\texttt{c}$ & $\\texttt{d}$ \\\\ \\cline{1-3}\\multicolumn{3}{|l|}{$\\texttt{e}$} \\\\ \\hline \\end{tabular}\n",
      "\\begin{tabular}{p{0.35\\linewidth}|p{0.28\\linewidth}p{0.28\\linewidth}p{0.28\\linewidth}}\\hline \\sf Header Col 1& \\sf Header Col 2&\\\\\\hline \\sf Lorem ipsum & \\textcolor{blue}{A link example} \\\\\\hline \\end{tabular}\n",
      "\\begin{tabular}{p{0.2\\columnwidth}|p{0.167\\columnwidth}|p{0.167\\columnwidth}|p{0.167\\columnwidth}|p{0.167\\columnwidth}}\\hline \\texttt{a} & \\multicolumn{2}{l|}{\\texttt{>b<}} & \\texttt{c} \\\\ \\hline \\cline{2-3}\\texttt{d} & \\texttt{e} & \\texttt{f} & \\texttt{i} \\\\ \\cline{2-3} & \\texttt{g8t} & \\texttt{h} & \\\\ \\hline \\texttt{j} & \\multicolumn{2}{l|}{\\texttt{k}} & \\texttt{l} \\\\ \\hline \\end{tabular}\n"
     ]
    }
   ],
   "source": [
    "for idx, single_page_res in enumerate(doc_layout_result):\n",
    "    for res_index, res in enumerate(single_page_res['layout_dets']):\n",
    "        if 'latex_result' in res and int(res['category_id']) == 5:\n",
    "            latex = res['latex_result']\n",
    "            print(latex)\n",
    "            latex_image = tex2pil(latex)[0]\n",
    "            latex_image.save(os.path.join(output_dir,f'page_{idx}_latex_image_{res_index}.jpg'))"
   ]
  },
  {
   "cell_type": "markdown",
   "metadata": {},
   "source": [
    "# 整理数据并保存信息得到doc_llm"
   ]
  },
  {
   "cell_type": "code",
   "execution_count": 165,
   "metadata": {},
   "outputs": [],
   "source": [
    "def process_ocr_result(ocr_reuslt):\n",
    "    ocr_result_ordered = []\n",
    "    for res in ocr_result:\n",
    "        xmin, ymin = int(res['poly'][0]), int(res['poly'][1])\n",
    "        xmax, ymax = int(res['poly'][4]), int(res['poly'][5])\n",
    "        x_avg = (xmin + xmax)/2\n",
    "        y_avg = (ymin + ymax)/2\n",
    "        text = res['text']\n",
    "        ocr_result_ordered.append((x_avg,y_avg,text))\n",
    "    return ocr_result_ordered\n",
    "\n",
    "doc_llm= []\n",
    "for idx, page in enumerate(doc_layout_result):\n",
    "    res_llm = []\n",
    "    layout = page['layout_dets']\n",
    "    for res in layout:\n",
    "        layout_llm = {}\n",
    "        xmin, ymin = int(res['poly'][0]), int(res['poly'][1])\n",
    "        xmax, ymax = int(res['poly'][4]), int(res['poly'][5])\n",
    "        x_avg = (xmin + xmax)/2\n",
    "        y_avg = (ymin + ymax)/2\n",
    "        layout_llm['center_position'] = (x_avg,y_avg)\n",
    "        layout_llm['box_position'] = (xmin,ymin,xmax,ymax)\n",
    "\n",
    "        category_id = res['category_id']\n",
    "        layout_llm['category'] = id2names[category_id]\n",
    "        if 'ocr_result' in res :\n",
    "            ocr_result = res['ocr_result']\n",
    "            layout_llm['ocr_result'] = process_ocr_result(ocr_result)\n",
    "        if 'latex_result' in res:\n",
    "            latex_result = res['latex_result']\n",
    "            layout_llm['latex_result'] = latex_result\n",
    "        res_llm.append(layout_llm)\n",
    "    doc_llm.append(res_llm)\n",
    "\n",
    "# for idx, single_page_res in enumerate(doc_llm):\n",
    "#     with open(os.path.join(output_dir, f'page_{idx}_llm_result.json'), 'w') as json_file:\n",
    "#         json.dump(single_page_res, json_file, indent=4)\n",
    "\n",
    "# with open('/output/doc_llm.json', 'w') as f:\n",
    "#     json.dump(doc_llm, f, ensure_ascii=False, indent=4)"
   ]
  }
 ],
 "metadata": {
  "kernelspec": {
   "display_name": "docparse",
   "language": "python",
   "name": "python3"
  },
  "language_info": {
   "codemirror_mode": {
    "name": "ipython",
    "version": 3
   },
   "file_extension": ".py",
   "mimetype": "text/x-python",
   "name": "python",
   "nbconvert_exporter": "python",
   "pygments_lexer": "ipython3",
   "version": "3.12.4"
  }
 },
 "nbformat": 4,
 "nbformat_minor": 2
}
